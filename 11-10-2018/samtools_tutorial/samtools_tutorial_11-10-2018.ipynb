{
 "cells": [
  {
   "cell_type": "markdown",
   "metadata": {},
   "source": [
    "# 11/10/2018\n",
    "\n",
    "### Samtools tutorial \n",
    "\n",
    "http://iobio.io/cshl"
   ]
  },
  {
   "cell_type": "markdown",
   "metadata": {},
   "source": [
    "# SAMTOOLS"
   ]
  },
  {
   "cell_type": "markdown",
   "metadata": {},
   "source": [
    "```\n",
    "[nathalia@aws] $  cd workspace/bam-demo/\n",
    "[nathalia@aws] $  ls\n",
    "sample.bam\n",
    "[nathalia@aws] $  lhtr\n",
    "total 3.9M\n",
    "-rwxr-xr-- 1 ubuntu ubuntu 3.9M Nov 10 16:45 sample.bam\n",
    "\n",
    "```"
   ]
  },
  {
   "cell_type": "markdown",
   "metadata": {},
   "source": [
    "```\n",
    "[nathalia@aws] $  samtools\n",
    "\n",
    "Program: samtools (Tools for alignments in the SAM format)\n",
    "Version: 1.9 (using htslib 1.9)\n",
    "\n",
    "Usage:   samtools <command> [options]\n",
    "\n",
    "Commands:\n",
    "  -- Indexing\n",
    "     dict           create a sequence dictionary file\n",
    "     faidx          index/extract FASTA\n",
    "     fqidx          index/extract FASTQ\n",
    "     index          index alignment\n",
    "\n",
    "  -- Editing\n",
    "     calmd          recalculate MD/NM tags and '=' bases\n",
    "     fixmate        fix mate information\n",
    "     reheader       replace BAM header\n",
    "     targetcut      cut fosmid regions (for fosmid pool only)\n",
    "     addreplacerg   adds or replaces RG tags\n",
    "     markdup        mark duplicates\n",
    "\n",
    "  -- File operations\n",
    "     collate        shuffle and group alignments by name\n",
    "     cat            concatenate BAMs\n",
    "     merge          merge sorted alignments\n",
    "     mpileup        multi-way pileup\n",
    "     sort           sort alignment file\n",
    "     split          splits a file by read group\n",
    "     quickcheck     quickly check if SAM/BAM/CRAM file appears intact\n",
    "     fastq          converts a BAM to a FASTQ\n",
    "     fasta          converts a BAM to a FASTA\n",
    "\n",
    "  -- Statistics\n",
    "     bedcov         read depth per BED region\n",
    "     depth          compute the depth\n",
    "     flagstat       simple stats\n",
    "     idxstats       BAM index stats\n",
    "     phase          phase heterozygotes\n",
    "     stats          generate stats (former bamcheck)\n",
    "\n",
    "  -- Viewing\n",
    "     flags          explain BAM flags\n",
    "     tview          text alignment viewer\n",
    "     view           SAM<->BAM<->CRAM conversion\n",
    "     depad          convert padded BAM to unpadded BAM\n",
    "\n",
    "```"
   ]
  },
  {
   "cell_type": "markdown",
   "metadata": {},
   "source": [
    "```\n",
    "[nathalia@aws] $  samtools view\n",
    "\n",
    "Usage: samtools view [options] <in.bam>|<in.sam>|<in.cram> [region ...]\n",
    "\n",
    "Options:\n",
    "  -b       output BAM\n",
    "  -C       output CRAM (requires -T)\n",
    "  -1       use fast BAM compression (implies -b)\n",
    "  -u       uncompressed BAM output (implies -b)\n",
    "  -h       include header in SAM output\n",
    "  -H       print SAM header only (no alignments)\n",
    "  -c       print only the count of matching records\n",
    "  -o FILE  output file name [stdout]\n",
    "  -U FILE  output reads not selected by filters to FILE [null]\n",
    "  -t FILE  FILE listing reference names and lengths (see long help) [null]\n",
    "  -L FILE  only include reads overlapping this BED FILE [null]\n",
    "  -r STR   only include reads in read group STR [null]\n",
    "  -R FILE  only include reads with read group listed in FILE [null]\n",
    "  -q INT   only include reads with mapping quality >= INT [0]\n",
    "  -l STR   only include reads in library STR [null]\n",
    "  -m INT   only include reads with number of CIGAR operations consuming\n",
    "           query sequence >= INT [0]\n",
    "  -f INT   only include reads with all  of the FLAGs in INT present [0]\n",
    "  -F INT   only include reads with none of the FLAGS in INT present [0]\n",
    "  -G INT   only EXCLUDE reads with all  of the FLAGs in INT present [0]\n",
    "  -s FLOAT subsample reads (given INT.FRAC option value, 0.FRAC is the\n",
    "           fraction of templates/read pairs to keep; INT part sets seed)\n",
    "  -M       use the multi-region iterator (increases the speed, removes\n",
    "           duplicates and outputs the reads as they are ordered in the file)\n",
    "  -x STR   read tag to strip (repeatable) [null]\n",
    "  -B       collapse the backward CIGAR operation\n",
    "  -?       print long help, including note about region specification\n",
    "  -S       ignored (input format is auto-detected)\n",
    "      --input-fmt-option OPT[=VAL]\n",
    "               Specify a single input file format option in the form\n",
    "               of OPTION or OPTION=VALUE\n",
    "  -O, --output-fmt FORMAT[,OPT[=VAL]]...\n",
    "               Specify output format (SAM, BAM, CRAM)\n",
    "      --output-fmt-option OPT[=VAL]\n",
    "               Specify a single output file format option in the form\n",
    "               of OPTION or OPTION=VALUE\n",
    "  -T, --reference FILE\n",
    "               Reference sequence FASTA FILE [null]\n",
    "  -@, --threads INT\n",
    "               Number of additional threads to use [0]\n",
    "\n",
    "\n",
    "```"
   ]
  },
  {
   "cell_type": "markdown",
   "metadata": {},
   "source": [
    "A bit more information if use `-?`"
   ]
  },
  {
   "cell_type": "markdown",
   "metadata": {},
   "source": [
    "```\n",
    "[nathalia@aws] $  samtools view -?\n",
    "\n",
    "Usage: samtools view [options] <in.bam>|<in.sam>|<in.cram> [region ...]\n",
    "\n",
    "Options:\n",
    "  -b       output BAM\n",
    "  -C       output CRAM (requires -T)\n",
    "  -1       use fast BAM compression (implies -b)\n",
    "  -u       uncompressed BAM output (implies -b)\n",
    "  -h       include header in SAM output\n",
    "  -H       print SAM header only (no alignments)\n",
    "  -c       print only the count of matching records\n",
    "  -o FILE  output file name [stdout]\n",
    "  -U FILE  output reads not selected by filters to FILE [null]\n",
    "  -t FILE  FILE listing reference names and lengths (see long help) [null]\n",
    "  -L FILE  only include reads overlapping this BED FILE [null]\n",
    "  -r STR   only include reads in read group STR [null]\n",
    "  -R FILE  only include reads with read group listed in FILE [null]\n",
    "  -q INT   only include reads with mapping quality >= INT [0]\n",
    "  -l STR   only include reads in library STR [null]\n",
    "  -m INT   only include reads with number of CIGAR operations consuming\n",
    "           query sequence >= INT [0]\n",
    "  -f INT   only include reads with all  of the FLAGs in INT present [0]\n",
    "  -F INT   only include reads with none of the FLAGS in INT present [0]\n",
    "  -G INT   only EXCLUDE reads with all  of the FLAGs in INT present [0]\n",
    "  -s FLOAT subsample reads (given INT.FRAC option value, 0.FRAC is the\n",
    "           fraction of templates/read pairs to keep; INT part sets seed)\n",
    "  -M       use the multi-region iterator (increases the speed, removes\n",
    "           duplicates and outputs the reads as they are ordered in the file)\n",
    "  -x STR   read tag to strip (repeatable) [null]\n",
    "  -B       collapse the backward CIGAR operation\n",
    "  -?       print long help, including note about region specification\n",
    "  -S       ignored (input format is auto-detected)\n",
    "      --input-fmt-option OPT[=VAL]\n",
    "               Specify a single input file format option in the form\n",
    "               of OPTION or OPTION=VALUE\n",
    "  -O, --output-fmt FORMAT[,OPT[=VAL]]...\n",
    "               Specify output format (SAM, BAM, CRAM)\n",
    "      --output-fmt-option OPT[=VAL]\n",
    "               Specify a single output file format option in the form\n",
    "               of OPTION or OPTION=VALUE\n",
    "  -T, --reference FILE\n",
    "               Reference sequence FASTA FILE [null]\n",
    "  -@, --threads INT\n",
    "               Number of additional threads to use [0]\n",
    "\n",
    "Notes:\n",
    "\n",
    "1. This command now auto-detects the input format (BAM/CRAM/SAM).\n",
    "   Further control over the CRAM format can be specified by using the\n",
    "   --output-fmt-option, e.g. to specify the number of sequences per slice\n",
    "   and to use avoid reference based compression:\n",
    "\n",
    "\tsamtools view -C --output-fmt-option seqs_per_slice=5000 \\\n",
    "\t   --output-fmt-option no_ref -o out.cram in.bam\n",
    "\n",
    "   Options can also be specified as a comma separated list within the\n",
    "   --output-fmt value too.  For example this is equivalent to the above\n",
    "\n",
    "\tsamtools view --output-fmt cram,seqs_per_slice=5000,no_ref \\\n",
    "\t   -o out.cram in.bam\n",
    "\n",
    "2. The file supplied with `-t' is SPACE/TAB delimited with the first\n",
    "   two fields of each line consisting of the reference name and the\n",
    "   corresponding sequence length. The `.fai' file generated by \n",
    "   `samtools faidx' is suitable for use as this file. This may be an\n",
    "   empty file if reads are unaligned.\n",
    "\n",
    "3. SAM->BAM conversion:  samtools view -bT ref.fa in.sam.gz\n",
    "\n",
    "4. BAM->SAM conversion:  samtools view -h in.bam\n",
    "\n",
    "5. A region should be presented in one of the following formats:\n",
    "   `chr1', `chr2:1,000' and `chr3:1000-2,000'. When a region is\n",
    "   specified, the input alignment file must be a sorted and indexed\n",
    "   alignment (BAM/CRAM) file.\n",
    "\n",
    "6. Option `-u' is preferred over `-b' when the output is piped to\n",
    "   another samtools command.\n",
    "   \n",
    "   ```"
   ]
  },
  {
   "cell_type": "markdown",
   "metadata": {},
   "source": [
    "```\n",
    "[nathalia@aws] $  samtools sort\n",
    "Usage: samtools sort [options...] [in.bam]\n",
    "Options:\n",
    "  -l INT     Set compression level, from 0 (uncompressed) to 9 (best)\n",
    "  -m INT     Set maximum memory per thread; suffix K/M/G recognized [768M]\n",
    "  -n         Sort by read name\n",
    "  -t TAG     Sort by value of TAG. Uses position as secondary index (or read name if -n is set)\n",
    "  -o FILE    Write final output to FILE rather than standard output\n",
    "  -T PREFIX  Write temporary files to PREFIX.nnnn.bam\n",
    "      --input-fmt-option OPT[=VAL]\n",
    "               Specify a single input file format option in the form\n",
    "               of OPTION or OPTION=VALUE\n",
    "  -O, --output-fmt FORMAT[,OPT[=VAL]]...\n",
    "               Specify output format (SAM, BAM, CRAM)\n",
    "      --output-fmt-option OPT[=VAL]\n",
    "               Specify a single output file format option in the form\n",
    "               of OPTION or OPTION=VALUE\n",
    "      --reference FILE\n",
    "               Reference sequence FASTA FILE [null]\n",
    "  -@, --threads INT\n",
    "               Number of additional threads to use [0]\n",
    "               \n",
    "```               "
   ]
  },
  {
   "cell_type": "markdown",
   "metadata": {},
   "source": [
    "```\n",
    "[nathalia@aws] $  samtools view sample.bam | less -S\n",
    "\n",
    "\n",
    "mutated_genome.000000000        83      20      22883   60      100M    =       21956   -1027   CATCAGGCGTTGTATA\n",
    "mutated_genome.000000000        163     20      21956   60      19M1I29M1D51M   =       22883   1027    GGCATGGA\n",
    "mutated_genome.000000001        83      20      1415    60      29M1I70M        =       515     -999    TAAGCGGA\n",
    "mutated_genome.000000001        163     20      515     39      100M    =       1415    999     TGTCCCAACCATCCAC\n",
    "mutated_genome.000000002        99      20      26165   60      100M    =       26992   928     GGACCAGTGTGGTCAC\n",
    "mutated_genome.000000002        147     20      26992   60      24M1D76M        =       26165   -928    AGGCCAGC\n",
    "mutated_genome.000000003        99      20      14722   60      100M    =       15679   1057    CCAACCAGCATATATA\n",
    "mutated_genome.000000003        147     20      15679   60      100M    =       14722   -1057   CTTTTCTTGAAGACCT\n",
    "mutated_genome.000000004        83      20      84453   60      100M    =       83644   -909    TTNGTTAGCTTATTGT\n",
    "mutated_genome.000000004        163     20      83644   60      36M1D64M        =       84453   909     TCTGTAAC\n",
    "mutated_genome.000000005        83      20      95337   60      100M    =       94548   -889    GTAAGATGCCAGCTAC\n",
    "mutated_genome.000000005        163     20      94548   60      100M    =       95337   889     GATGGTCTCGATGTCC\n",
    "mutated_genome.000000006        99      20      39657   60      100M    =       40524   967     ATGCCTTAGACTCTTT\n",
    "mutated_genome.000000006        147     20      40524   60      100M    =       39657   -967    TCCTGGTGGATGAGGG\n",
    "mutated_genome.000000007        99      20      6263    60      87M1I12M        =       7164    1001    AGCTTTTT\n",
    "mutated_genome.000000007        147     20      7164    60      100M    =       6263    -1001   AACATACAGTTGCATG\n",
    "\n",
    "(...)\n",
    "\n",
    "```"
   ]
  },
  {
   "cell_type": "markdown",
   "metadata": {},
   "source": [
    "Look up flags"
   ]
  },
  {
   "cell_type": "markdown",
   "metadata": {},
   "source": [
    "https://broadinstitute.github.io/picard/explain-flags.html"
   ]
  },
  {
   "cell_type": "markdown",
   "metadata": {},
   "source": [
    "```\n",
    "[nathalia@aws] $  samtools flags 147\n",
    "0x93\t147\tPAIRED,PROPER_PAIR,REVERSE,READ2\n",
    "```"
   ]
  },
  {
   "cell_type": "markdown",
   "metadata": {},
   "source": [
    "# BAM HEADER"
   ]
  },
  {
   "cell_type": "markdown",
   "metadata": {},
   "source": [
    "```\n",
    "\n",
    "[nathalia@aws] $  samtools view -H sample.bam | less -S\n",
    "\n",
    "\n",
    "@SQ     SN:20   LN:100020\n",
    "@RG     ID:mutated_genome       PL:ILLUMINA     SM:mutated_genome\n",
    "@PG     ID:bwa  PN:bwa  VN:0.7.9a-r786  CL:/Users/AlistairNWard/Work/gkno/gkno_launcher/tools/bwa/bwa mem -t 8 -\n",
    "\n",
    "\n",
    "```"
   ]
  },
  {
   "cell_type": "markdown",
   "metadata": {},
   "source": [
    "`-h` gives headers and alignment"
   ]
  },
  {
   "cell_type": "markdown",
   "metadata": {},
   "source": [
    "```\n",
    "[nathalia@aws] $  samtools view -h sample.bam | less -S\n",
    "\n",
    "\n",
    "\n",
    "@SQ     SN:20   LN:100020\n",
    "@RG     ID:mutated_genome       PL:ILLUMINA     SM:mutated_genome\n",
    "@PG     ID:bwa  PN:bwa  VN:0.7.9a-r786  CL:/Users/AlistairNWard/Work/gkno/gkno_launcher/tools/bwa/bwa mem -t 8 -\n",
    "mutated_genome.000000000        83      20      22883   60      100M    =       21956   -1027   CATCAGGCGTTGTATA\n",
    "mutated_genome.000000000        163     20      21956   60      19M1I29M1D51M   =       22883   1027    GGCATGGA\n",
    "mutated_genome.000000001        83      20      1415    60      29M1I70M        =       515     -999    TAAGCGGA\n",
    "mutated_genome.000000001        163     20      515     39      100M    =       1415    999     TGTCCCAACCATCCAC\n",
    "mutated_genome.000000002        99      20      26165   60      100M    =       26992   928     GGACCAGTGTGGTCAC\n",
    "mutated_genome.000000002        147     20      26992   60      24M1D76M        =       26165   -928    AGGCCAGC\n",
    "mutated_genome.000000003        99      20      14722   60      100M    =       15679   1057    CCAACCAGCATATATA\n",
    "mutated_genome.000000003        147     20      15679   60      100M    =       14722   -1057   CTTTTCTTGAAGACCT\n",
    "mutated_genome.000000004        83      20      84453   60      100M    =       83644   -909    TTNGTTAGCTTATTGT\n",
    "mutated_genome.000000004        163     20      83644   60      36M1D64M        =       84453   909     TCTGTAAC\n",
    "mutated_genome.000000005        83      20      95337   60      100M    =       94548   -889    GTAAGATGCCAGCTAC\n",
    "mutated_genome.000000005        163     20      94548   60      100M    =       95337   889     GATGGTCTCGATGTCC\n",
    "mutated_genome.000000006        99      20      39657   60      100M    =       40524   967     ATGCCTTAGACTCTTT\n",
    "mutated_genome.000000006        147     20      40524   60      100M    =       39657   -967    TCCTGGTGGATGAGGG\n",
    "mutated_genome.000000007        99      20      6263    60      87M1I12M        =       7164    1001    AGCTTTTT\n",
    "mutated_genome.000000007        147     20      7164    60      100M    =       6263    -1001   AACATACAGTTGCATG\n",
    "mutated_genome.000000008        83      20      61969   60      100M    =       61102   -967    ANGGGGTTAGTGCCCT\n",
    "mutated_genome.000000008        163     20      61102   60      100M    =       61969   967     TCTGCTCTCTGGGCTG\n",
    "mutated_genome.000000009        83      20      35846   60      27M1D73M        =       35105   -842    AAATCAGA\n",
    "mutated_genome.000000009        163     20      35105   60      100M    =       35846   842     GAAAGAACAAAACTAC\n",
    "mutated_genome.000000010        83      20      11338   60      100M    =       10344   -1094   GCTGGGAGATGATATT\n",
    "\n",
    "```\n"
   ]
  },
  {
   "cell_type": "markdown",
   "metadata": {},
   "source": [
    "# SAMTOOLS SORT\n",
    "\n",
    "`.sam` file is sorted by name of the reads by default. It is important to sort by genomic coordinates."
   ]
  },
  {
   "cell_type": "markdown",
   "metadata": {},
   "source": [
    "```\n",
    "[nathalia@aws] $  samtools sort -o sample_sorted.bam sample.bam \n",
    "[nathalia@aws] $  lhtr\n",
    "total 6.7M\n",
    "-rwxr-xr-- 1 ubuntu ubuntu 3.9M Nov 10 16:45 sample.bam\n",
    "-rw-rw-r-- 1 ubuntu ubuntu 2.9M Nov 10 20:41 sample_sorted.bam\n",
    "\n",
    "```\n",
    "\n",
    "The sorted file is smaller, which is due to the better compression, but they are the same size.\n",
    "\n",
    "```\n",
    "[nathalia@aws] $  samtools view sample_sorted.bam | wc -l\n",
    "40027\n",
    "[nathalia@aws] $  samtools view sample.bam | wc -l\n",
    "40027\n",
    "```"
   ]
  },
  {
   "cell_type": "markdown",
   "metadata": {},
   "source": [
    "```\n",
    "[nathalia@aws] $  samtools view -h sample_sorted.bam | less -S\n",
    "\n",
    "\n",
    "@HD     VN:1.6  SO:coordinate\n",
    "@SQ     SN:20   LN:100020\n",
    "@RG     ID:mutated_genome       PL:ILLUMINA     SM:mutated_genome\n",
    "@PG     ID:bwa  PN:bwa  VN:0.7.9a-r786  CL:/Users/AlistairNWard/Work/gkno/gkno_launcher/tools/bwa/bwa mem -t 8 -\n",
    "mutated_genome.000012885        99      20      7       60      43M1I56M        =       1000    1093    GAGAACTG\n",
    "mutated_genome.000018791        99      20      12      60      100M    =       952     1040    CTGGAACAAGAACCCA\n",
    "mutated_genome.000011728        163     20      17      60      100M    =       1044    1127    ACAAGAACCCAGTGCT\n",
    "mutated_genome.000017820        163     20      28      60      100M    =       996     1069    GTGCTCTTTCTGCTCT\n",
    "mutated_genome.000010659        99      20      33      60      100M    =       978     1045    CTTTCTGCTCTACCCA\n",
    "mutated_genome.000011092        99      20      41      60      100M    =       939     998     TCTACCCACTGACCCA\n",
    "mutated_genome.000014983        163     20      47      60      100M    =       891     944     CACTGACCCATCCTCT\n",
    "mutated_genome.000013958        163     20      53      60      100M    =       927     974     CCCATCCTCTCACGCA\n",
    "mutated_genome.000006671        163     20      55      60      64M1D36M        =       1010    1055    CATCCTCT\n",
    "mutated_genome.000012714        99      20      55      60      90M1I9M =       966     1011    CATCCTCTCACGCATC\n",
    "mutated_genome.000019457        99      20      71      60      100M    =       1004    1033    ATACACCCATACTCCC\n",
    "mutated_genome.000002286        99      20      76      60      100M    =       951     976     CCCATACTCCCATCCA\n",
    "mutated_genome.000005784        163     20      81      60      100M    =       948     967     ACTCCCATCCACCCAC\n",
    "mutated_genome.000002853        163     20      86      60      100M    =       946     958     CATCCACCCACCTTCC\n",
    "mutated_genome.000009039        163     20      88      60      100M    =       937     949     TCCACCCACCTTCCCA\n",
    "mutated_genome.000012734        99      20      94      60      14M1I71M1I13M   =       1022    1028    CACCTTCC\n",
    "mutated_genome.000017492        99      20      101     60      100M    =       1004    1003    CCATTCATGCATTCAC\n",
    "mutated_genome.000018940        163     20      102     60      25M1I74M        =       983     981     CATTCATG\n",
    "mutated_genome.000002542        163     20      105     60      100M    =       955     949     TCATGCATTCACCCAT\n",
    "mutated_genome.000017868        99      20      105     60      100M    =       1067    1063    TCATGCATTCACCCAT\n",
    "\n",
    "```"
   ]
  },
  {
   "cell_type": "markdown",
   "metadata": {},
   "source": [
    "Note the `SO` tag in the header section\n",
    "\n",
    "```\n",
    "[nathalia@aws] $  samtools view -H sample.bam\n",
    "@SQ\tSN:20\tLN:100020\n",
    "@RG\tID:mutated_genome\tPL:ILLUMINA\tSM:mutated_genome\n",
    "@PG\tID:bwa\tPN:bwa\tVN:0.7.9a-r786\tCL:/Users/AlistairNWard/Work/gkno/gkno_launcher/tools/bwa/bwa mem -t 8 -R @RG\\tID:mutated_genome\\tPL:ILLUMINA\\tSM:mutated_genome /Users/AlistairNWard/Work/gkno/gkno_launcher/resources/tutorial/current/chr20_fragment /Users/AlistairNWard/Work/gkno/gkno_launcher/resources/tutorial/current/mutated_genome_1.fq ../../resources/tutorial/current/mutated_genome_2.fq\n",
    "[nathalia@aws] $  samtools view -H sample_sorted.bam \n",
    "@HD\tVN:1.6\tSO:coordinate\n",
    "@SQ\tSN:20\tLN:100020\n",
    "@RG\tID:mutated_genome\tPL:ILLUMINA\tSM:mutated_genome\n",
    "@PG\tID:bwa\tPN:bwa\tVN:0.7.9a-r786\tCL:/Users/AlistairNWard/Work/gkno/gkno_launcher/tools/bwa/bwa mem -t 8 -R @RG\\tID:mutated_genome\\tPL:ILLUMINA\\tSM:mutated_genome /Users/AlistairNWard/Work/gkno/gkno_launcher/resources/tutorial/current/chr20_fragment /Users/AlistairNWard/Work/gkno/gkno_launcher/resources/tutorial/current/mutated_genome_1.fq ../../resources/tutorial/current/mutated_genome_2.fq\n",
    "\n",
    "```"
   ]
  },
  {
   "cell_type": "markdown",
   "metadata": {},
   "source": [
    "# SAMTOOLS INDEX\n",
    "\n",
    "Index will help with searching the file."
   ]
  },
  {
   "cell_type": "markdown",
   "metadata": {},
   "source": [
    "```\n",
    "[nathalia@aws] $  samtools index sample_sorted.bam \n",
    "[nathalia@aws] $  lhtr\n",
    "total 6.7M\n",
    "-rwxr-xr-- 1 ubuntu ubuntu 3.9M Nov 10 16:45 sample.bam\n",
    "-rw-rw-r-- 1 ubuntu ubuntu 2.9M Nov 10 20:41 sample_sorted.bam\n",
    "-rw-rw-r-- 1 ubuntu ubuntu  368 Nov 10 20:47 sample_sorted.bam.bai\n",
    "```"
   ]
  },
  {
   "cell_type": "markdown",
   "metadata": {},
   "source": [
    "```\n",
    "[nathalia@aws] $  samtools view sample_sorted.bam 20:20000-30000 | less -S -X\n",
    "\n",
    "mutated_genome.000009522        99      20      19903   60      100M    =       20762   959     CCAGACTCAATATCCT\n",
    "mutated_genome.000004899        163     20      19905   60      100M    =       20665   860     AGACTCAATATCCTGT\n",
    "mutated_genome.000013975        83      20      19908   60      100M    =       19042   -966    CTCAATATCCTGTTTC\n",
    "mutated_genome.000007502        163     20      19911   60      100M    =       20839   1028    AATATCCTGTTTCTAC\n",
    "mutated_genome.000007451        147     20      19911   60      100M    =       18906   -1105   AATATCCTGTTTCTAC\n",
    "mutated_genome.000014004        99      20      19913   60      100M    =       20940   1126    TATCCTGTTTCTACCA\n",
    "mutated_genome.000013157        99      20      19916   60      100M    =       20752   938     CCTGTTTCTACCACCA\n",
    "mutated_genome.000008729        83      20      19918   60      100M    =       19041   -977    TGTTTCTACCACCAGC\n",
    "mutated_genome.000012610        163     20      19923   60      100M    =       20815   992     CTACCACCAGCAAATT\n",
    "mutated_genome.000014556        163     20      19927   60      100M    =       20810   983     CACCAGCAAATTGAAT\n",
    "mutated_genome.000004986        163     20      19937   60      31M1I68M        =       20779   942     TTGAATTT\n",
    "mutated_genome.000001109        147     20      19939   60      100M    =       19022   -1017   GAATNTTCAGAAGTTG\n",
    "mutated_genome.000013439        147     20      19941   60      41M1D59M        =       19061   -981    ATTTTCAG\n",
    "mutated_genome.000007324        147     20      19945   60      100M    =       19020   -1025   TCAGAAGTTGGCCTCC\n",
    "mutated_genome.000009649        147     20      19950   60      14M1D86M        =       19049   -1002   AGTTGGCC\n",
    "mutated_genome.000010572        83      20      19950   60      100M    =       18930   -1120   AGTTGGCCTCCTAACG\n",
    "mutated_genome.000009079        83      20      19954   60      100M    =       19066   -988    GGCCTCCTAACGAAGC\n",
    "mutated_genome.000019140        147     20      19956   60      90M1D10M        =       18970   -1087   CCTCCTAA\n",
    "mutated_genome.000004541        99      20      19958   60      100M    =       20895   1037    TCCTAACGAAGCCAGC\n",
    "mutated_genome.000009568        99      20      19960   60      100M    =       20980   1120    CTAACGAAGCCAGCTT\n",
    "mutated_genome.000004741        147     20      19965   60      100M    =       19115   -950    GAANCCAGCTTAATAC\n",
    "mutated_genome.000005610        163     20      19967   60      100M    =       20857   990     AGCCAGCTTAATACGT\n",
    "\n",
    "\n",
    "```"
   ]
  },
  {
   "cell_type": "markdown",
   "metadata": {},
   "source": [
    "`20:20000-30000` \n",
    "\n",
    "chromosome:start_position-end_position\n",
    "\n",
    "In the previous line, samtools is taking `sample_sorted.bam.bai`. But in the code only write `sample_sorted.bam`, make sure that the `.bai` file is in the same directory.\n",
    "\n",
    "`-X` will leave the screen from `less` command printed on the screen after pressing `q`"
   ]
  },
  {
   "cell_type": "markdown",
   "metadata": {},
   "source": [
    "```\n",
    "[nathalia@aws] $  samtools view sample_sorted.bam 20:20000-30000 | wc -l\n",
    "3860\n",
    "```"
   ]
  },
  {
   "cell_type": "markdown",
   "metadata": {},
   "source": [
    "Remember to not include the header in the `wc -l` line."
   ]
  },
  {
   "cell_type": "markdown",
   "metadata": {},
   "source": [
    "# BAM FLAG"
   ]
  },
  {
   "cell_type": "markdown",
   "metadata": {},
   "source": [
    "`0x1`  this flag means read paired"
   ]
  },
  {
   "cell_type": "markdown",
   "metadata": {},
   "source": [
    "```\n",
    "[nathalia@aws] $  samtools view -f 0x1 sample_sorted.bam  | less -SX\n",
    "mutated_genome.000012885        99      20      7       60      43M1I56M        =       1000    1093    GAGAACTG\n",
    "mutated_genome.000018791        99      20      12      60      100M    =       952     1040    CTGGAACAAGAACCCA\n",
    "mutated_genome.000011728        163     20      17      60      100M    =       1044    1127    ACAAGAACCCAGTGCT\n",
    "mutated_genome.000017820        163     20      28      60      100M    =       996     1069    GTGCTCTTTCTGCTCT\n",
    "mutated_genome.000010659        99      20      33      60      100M    =       978     1045    CTTTCTGCTCTACCCA\n",
    "mutated_genome.000011092        99      20      41      60      100M    =       939     998     TCTACCCACTGACCCA\n",
    "mutated_genome.000014983        163     20      47      60      100M    =       891     944     CACTGACCCATCCTCT\n",
    "mutated_genome.000013958        163     20      53      60      100M    =       927     974     CCCATCCTCTCACGCA\n",
    "mutated_genome.000006671        163     20      55      60      64M1D36M        =       1010    1055    CATCCTCT\n",
    "mutated_genome.000012714        99      20      55      60      90M1I9M =       966     1011    CATCCTCTCACGCATC\n",
    "mutated_genome.000019457        99      20      71      60      100M    =       1004    1033    ATACACCCATACTCCC\n",
    "mutated_genome.000002286        99      20      76      60      100M    =       951     976     CCCATACTCCCATCCA\n",
    "mutated_genome.000005784        163     20      81      60      100M    =       948     967     ACTCCCATCCACCCAC\n",
    "mutated_genome.000002853        163     20      86      60      100M    =       946     958     CATCCACCCACCTTCC\n",
    "mutated_genome.000009039        163     20      88      60      100M    =       937     949     TCCACCCACCTTCCCA\n",
    "mutated_genome.000012734        99      20      94      60      14M1I71M1I13M   =       1022    1028    CACCTTCC\n",
    "mutated_genome.000017492        99      20      101     60      100M    =       1004    1003    CCATTCATGCATTCAC\n",
    "mutated_genome.000018940        163     20      102     60      25M1I74M        =       983     981     CATTCATG\n",
    "mutated_genome.000002542        163     20      105     60      100M    =       955     949     TCATGCATTCACCCAT\n",
    "mutated_genome.000017868        99      20      105     60      100M    =       1067    1063    TCATGCATTCACCCAT\n",
    "mutated_genome.000018565        163     20      117     60      8M1I91M =       954     937     CCATTCACACCACCTT\n",
    "mutated_genome.000007670        99      20      120     60      100M    =       959     939     TTCACCCACCTTCCAT\n",
    "mutated_genome.000014564        99      20      122     60      100M    =       1075    1053    CACCCACCTTCCATCC\n",
    "mutated_genome.000010760        99      20      128     60      12M1D88M        =       1166    1138    CCTTCCAT\n",
    "mutated_genome.000004046        99      20      131     60      100M    =       1064    1033    TCCATCCATCTACCAT\n",
    "\n",
    "```"
   ]
  },
  {
   "cell_type": "markdown",
   "metadata": {},
   "source": [
    "`99` isn't only 0x1 because it has other flags, that's why it's listed. "
   ]
  },
  {
   "cell_type": "markdown",
   "metadata": {},
   "source": [
    "```\n",
    "[nathalia@aws] $  samtools view -f 144 sample_sorted.bam  | less -SX\n",
    "mutated_genome.000011092        147     20      939     60      100M    =       41      -998    CCCAGTGGTAGGAATA\n",
    "mutated_genome.000002286        147     20      951     60      88M1D12M        =       76      -976    AATAGAAA\n",
    "mutated_genome.000018791        147     20      952     60      100M    =       12      -1040   ATAGAAACAGCTTGAT\n",
    "mutated_genome.000007670        147     20      959     60      100M    =       120     -939    CAGCTTGATGGGATTC\n",
    "mutated_genome.000012714        147     20      966     60      100M    =       55      -1011   ATGGGATTAAGAATCA\n",
    "mutated_genome.000010659        147     20      978     60      100M    =       33      -1045   ATCAACAAAAAGGTCA\n",
    "mutated_genome.000012885        147     20      1000    60      100M    =       7       -1093   ATGAAGCAGAATGAGG\n",
    "mutated_genome.000017492        147     20      1004    60      100M    =       101     -1003   AGCAGAATGAGGGAGG\n",
    "mutated_genome.000019457        147     20      1004    60      100M    =       71      -1033   AGCAGAATGAGGGAGG\n",
    "mutated_genome.000012734        147     20      1022    60      100M    =       94      -1028   ACCCAAGCCAGCTCGG\n",
    "mutated_genome.000008319        147     20      1036    60      100M    =       265     -871    GGGCTTGATCATGGCA\n",
    "mutated_genome.000004239        147     20      1040    60      100M    =       178     -962    TTGATCATGGCAGGCT\n",
    "mutated_genome.000013047        147     20      1045    60      100M    =       343     -802    CATGGCAGGCTTTGTC\n",
    "mutated_genome.000004046        147     20      1064    60      100M    =       131     -1033   CACTGTGAGTAACCAG\n",
    "mutated_genome.000017868        147     20      1067    60      92M1D8M =       105     -1063   TGTGAGTAACCAGACT\n",
    "mutated_genome.000017226        147     20      1068    60      100M    =       146     -1022   GTGAGTAACCAGACTT\n",
    "mutated_genome.000014564        147     20      1075    60      100M    =       122     -1053   ACCAGACTTTATTTCA\n",
    "mutated_genome.000004247        147     20      1082    60      52M1D48M        =       223     -960    TTTATTTC\n",
    "mutated_genome.000013325        147     20      1112    60      54M1D46M        =       311     -902    TCCCCAGT\n",
    "mutated_genome.000000430        147     20      1113    60      100M    =       243     -970    CCCCAGTAGTAGAGTG\n",
    "mutated_genome.000018819        147     20      1130    60      100M    =       206     -1024   TTGCTCGTCTGCCAGA\n",
    "mutated_genome.000006326        147     20      1137    60      100M    =       240     -997    TCTGCCAGAAAAGGGG\n",
    "mutated_genome.000017617        147     20      1157    60      100M    =       224     -1033   GAGCTCTGGACATCAA\n",
    "mutated_genome.000010117        147     20      1166    60      100M    =       362     -904    ACATCAATACTTGCCG\n",
    "mutated_genome.000010760        147     20      1166    60      100M    =       128     -1138   ACATCAATACTTGCCG\n",
    "```\n"
   ]
  },
  {
   "cell_type": "markdown",
   "metadata": {},
   "source": [
    "For an explanation on `144` check out numbers in bit, and page 6 os the samtools pdf.\n",
    "\n",
    "https://broadinstitute.github.io/picard/explain-flags.html"
   ]
  },
  {
   "cell_type": "markdown",
   "metadata": {},
   "source": [
    "# SAMTOOLS TVIEW"
   ]
  },
  {
   "cell_type": "markdown",
   "metadata": {},
   "source": [
    "```\n",
    " 71801     71811     71821     71831     71841     71851     71861      71871     71881     71891\n",
    "NNNNNNNNNNNNNNNNNNNNNNNNNNNNNNNNNNNNNNNNNNNNNNNNNNNNNNNNNNNNNNNNN*NNNNNNNNNNNNNNNNNNNNNNNNNNNN******NNNNNNNNNNNN\n",
    "AAAATGCCTTCCCACAGATGAGAACAGGTACAAAAGCTCATGATGTGGTTGTAGAACAGTAAATG ACACCGTGCACCTGGATGCACCAGTGAG      GAGTGGGTGATA\n",
    "a  ATGCCTTCCCACAGATGAGAACAGGTACAAAAGCTCATGATGTGGTTGTAGAACAGTAAATG*ACACCGTGCACCTGGATGCACCAGTGAG******  gtgggtgata\n",
    "AAA   ccttcccacagatgagaacaggtacaaaagctcatgatgtggttgtagaacagtaaatg*acaccgtgcacctggatgcaccagtgag******         ATA\n",
    "aaaatgcct cccacagatgagaacaggtacaaaagctcatgatgtggttgtagaacagtaaatg*acaccgtgcacctggatgcaccagtgagaccagtgagtgggtgat\n",
    "aaaatgccttccca ggatgagaacaggtacaaaagctcatgatgtggttgtagaacagtaaatg*acaccgtgcacctggatgcaccagtgagaccagtgagtgggtgata\n",
    "aaaatgccttccca  GATGAGAACAGGTACAAAAGCTCATGATGTGGTTGTAGAACAGTAAATG*ACACCGTGCACCTGGATGCACCAGTGAGACCAGTGAGTGGGTGATA\n",
    "AAAATGCACTCCCACAG   AGAACAGGTACAAAAGCTCATGATGTGGTTGTAGAACAGTAAATG*ACACCGTGCACCTGGATGCACCAGTGAGACCAGTGAGTGGGTGATA\n",
    "AAAATGCCTTCCCACAGA         GTACAAAAGCTCATGATGTGGTTGTAGAACAGTAAATG*ACACCGTGCACCTGGATGCACCAGTGAGACCAGTGAGTGGGTGATA\n",
    "aaaatgcgttcccacagatga          AAAAGCTCATGATGTGGTTGTAGAACAGTAAATG*ACACCGTGCACCTGGATGCACCAGTGAGACCAGTGAGTGGGTGATA\n",
    "aaaatgccttcccacagatgagaac       AAAGCTCATGATGTGGTTGTAGAACAGTAAATG*ACACCGTGCACCTGGATGCACCAGTGAGACCAGTGAGTGGGTGATA\n",
    "AAAATGCCTTCCCACAGATGAGAACAGGTA     GCTCATGATGTGGTTGTAGAACAGTAAATG*ACACCGTGCACCTGGATGCACCAGTGAGACCAGTGAGTGGGTGATA\n",
    "aaaatgccttcccacagatgagaacaggta     GCTCATGATGTGGTTGTAGAACAGTAAATG*ACACCGTGCACCTGGATGCACCAGTGAGACCAGTGAGTGGGTGATA\n",
    "AAAATGCCTTCCCACAGATGAGAACAGGTAC        ATGATGTGGTTGTAGAACAGTAAATG*ACACCGTGCACCTGGATGCACCAGTGAGACCAGTGAGTGGGTGATA\n",
    "AAAATGCCTTCCCACAGATGAGAA*AGGTACAA      atgatgtggttgtagaacagtaaatgtacaccgtgcacctggatgcaccagtgagaccagtgagtgggtgata\n",
    "AAAATGCCTTCCCACAGATGAGAACAGGTACAAAA         GTGGTTGTAGAACAGTAAATG*ACACCGTGCACCTGGATGCACCAGTGAGACCAGTGAGTGGGTGATA\n",
    "AAAATGCCTTCCCACAGATGAGAACAGGTACAAAAGCTCA      GGTTGTAGAACAGTAAATG*ACACCGTGCACCTGGATGC*CCAGTGAGACCAGTGAGTGGGTGATA\n",
    "AAAATGCCTTCCCACAGATGAGAACAGGTACAAAAGCTCATG      ttgtagaacagtaaatg*acaccgtgcacctggatgcaccagtgagaccagtgagt*ggtgata\n",
    "aaaatgccttcccacagatgagaacaggtacaaaagctcatgatgt   tgtagaacagtaaatg*acaccgtgcacctggatgcaccagtgagaccagtgagtgggtgata\n",
    "AAAATGCCTTCCCACAGATGAGAACAGGTACAAAAGCTCATGATGTG  tgtagaacagtaaatg*acaccgtgcacctggatgcaccagtgagaccagtgagtgggtgata\n",
    "```"
   ]
  },
  {
   "cell_type": "markdown",
   "metadata": {},
   "source": [
    "Note the `NNNNNN...` because we didn't add the reference"
   ]
  },
  {
   "cell_type": "markdown",
   "metadata": {},
   "source": [
    "```\n",
    "[nathalia@aws] $  cp ~/workspace/data/utah/chr20_fragment.fa .\n",
    "\n",
    "[nathalia@aws] $  samtools tview -p 20:71800-71900 sample_sorted.bam chr20_fragment.fa \n",
    "\n",
    " 71801     71811     71821     71831     71841     71851     71861      71871     71881     71891           71901\n",
    "AAAATGCCTTCCCACAGATGAGAACAGGTACAAAAGCTCATGATGTGGTTGTAGAACAGTAAATG*ACACCGTGCACCTGGATGCACCAGTGAG******GAGTGGGTGATAGACCTGA\n",
    "................................................................. ............................      ...................\n",
    ",  ..............................................................*............................******  ,,,,,,,,,,,,,,,,,\n",
    "...   ,,,,,,,,,,,,,,,,,,,,,,,,,,,,,,,,,,,,,,,,,,,,,,,,,,,,,,,,,,,*,,,,,,,,,,,,,,,,,,,,,,,,,,,,******         ..........\n",
    ",,,,,,,,, ,,,,,,,,,,,,,,,,,,,,,,,,,,,,,,,,,,,,,,,,,,,,,,,,,,,,,,,*,,,,,,,,,,,,,,,,,,,,,,,,,,,,accagt,,,,,,,,,,,       .\n",
    ",,,,,,,,,,,,,, g,,,,,,,,,,,,,,,,,,,,,,,,,,,,,,,,,,,,,,,,,,,,,,,,,*,,,,,,,,,,,,,,,,,,,,,,,,,,,,accagt,,,,,,,,,,,,,,,,\n",
    ",,,,,,,,,,,,,,  .................................................*............................ACCAGT.................\n",
    ".......AC........   .............................................*............................ACCAGT...................\n",
    "..................         ......................................*............................ACCAGT...................\n",
    ",,,,,,,g,,,,,,,,,,,,,          ..................................*............................ACCAGT...................\n",
    ",,,,,,,,,,,,,,,,,,,,,,,,,       .................................*............................ACCAGT...................\n",
    "..............................     ..............................*............................ACCAGT...................\n",
    ",,,,,,,,,,,,,,,,,,,,,,,,,,,,,,     ..............................*............................ACCAGT...................\n",
    "...............................        ..........................*............................ACCAGT...................\n",
    "........................*........      ,,,,,,,,,,,,,,,,,,,,,,,,,,t,,,,,,,,,,,,,,,,,,,,,,,,,,,,accagt,,,,,,,,,,,,,,,,,,,\n",
    "...................................         .....................*............................ACCAGT...................\n",
    "........................................      ...................*...................*........ACCAGT...................\n",
    "..........................................      ,,,,,,,,,,,,,,,,,*,,,,,,,,,,,,,,,,,,,,,,,,,,,,accagt,,,,*,,,,,,,,,,,,,,\n",
    ",,,,,,,,,,,,,,,,,,,,,,,,,,,,,,,,,,,,,,,,,,,,,,   ,,,,,,,,,,,,,,,,*,,,,,,,,,,,,,,,,,,,,,,,,,,,,accagt,,,,,,,,,,,,,,,,,,,\n",
    "...............................................  ,,,,,,,,,,,,,,,,*,,,,,,,,,,,,,,,,,,,,,,,,,,,,accagt,,,,,,,,,,,,,,,,,,,\n",
    "...............................................    ,,,,,,,,,,,,,,*,,,,,,,,,,,,,,,,,,,,,,,,,,,,accagt,,,,,,,,,,,,,,,,,,,\n",
    ",,,,,,,,,,,,,,,,,,,,,,,,,,,,,,,,,,,,,,,,,,,,,,,,         ,,,,,,,,*,,,,,,,,,,,,,,,,,,,,,,,,,,,,accagt,,,,,,,,,,,,,,,,,,,\n",
    "\n",
    "\n",
    "```"
   ]
  },
  {
   "cell_type": "markdown",
   "metadata": {},
   "source": [
    "Reads disappeared because they matched.\n",
    "\n",
    "Check out this link to understand the symbols.\n",
    "\n",
    "https://en.wikipedia.org/wiki/Pileup_format\n",
    "\n",
    "```\n",
    "Column 5: The bases string[edit]\n",
    ". (dot) means a base that matched the reference on the forward strand\n",
    ", (comma) means a base that matched the reference on the reverse strand\n",
    "</> (less-/greater-than sign) denotes a reference skip. This occurs, for example, if a base in the reference genome is intronic and a read maps to two flanking exons. If quality scores are given in a sixth column, they refer to the quality of the read and not the specific base.\n",
    "AGTCN denotes a base that did not match the reference on the forward strand\n",
    "agtcn denotes a base that did not match the reference on the reverse strand\n",
    "A sequence matching the regular expression \\+[0-9]+[ACGTNacgtn]+ denotes an insertion of one or more bases starting from the next position\n",
    "A sequence matching the regular expression -[0-9]+[ACGTNacgtn]+ denotes a deletion of one or more bases starting from the next position\n",
    "^ (caret) marks the start of a read segment and the ASCII of the character following `^' minus 33 gives the mapping quality\n",
    "$ (dollar) marks the end of a read segment\n",
    "* (asterisk) is a placeholder for a deleted base in a multiple basepair deletion that was mentioned in a previous line by the -[0-9]+[ACGTNacgtn]+ notation\n",
    "```"
   ]
  },
  {
   "cell_type": "markdown",
   "metadata": {},
   "source": [
    "In Safari:\n",
    "\n",
    "`http://ec2-54-200-73-44.us-west-2.compute.amazonaws.com/workspace`\n",
    "\n",
    "which is Public DNS (IPv4) identification"
   ]
  },
  {
   "cell_type": "markdown",
   "metadata": {},
   "source": [
    "Copy the link from the `sorted.bam` file. \n",
    "\n",
    "Go to IGV. File > Load from URL \n",
    "\n",
    "Paste the URL link.\n",
    "\n",
    "In the search box, type chr20:71,800-71,900 > Go"
   ]
  },
  {
   "cell_type": "markdown",
   "metadata": {},
   "source": [
    "![pic1](igv_snapshot.png)"
   ]
  },
  {
   "cell_type": "markdown",
   "metadata": {},
   "source": [
    "# END!!"
   ]
  }
 ],
 "metadata": {
  "kernelspec": {
   "display_name": "Python 3",
   "language": "python",
   "name": "python3"
  },
  "language_info": {
   "codemirror_mode": {
    "name": "ipython",
    "version": 3
   },
   "file_extension": ".py",
   "mimetype": "text/x-python",
   "name": "python",
   "nbconvert_exporter": "python",
   "pygments_lexer": "ipython3",
   "version": "3.7.1"
  }
 },
 "nbformat": 4,
 "nbformat_minor": 2
}
